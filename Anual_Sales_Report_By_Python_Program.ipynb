{
 "cells": [
  {
   "cell_type": "markdown",
   "metadata": {},
   "source": [
    "## 1. Import packages and load data"
   ]
  },
  {
   "cell_type": "code",
   "execution_count": 2,
   "metadata": {},
   "outputs": [],
   "source": [
    "import pandas as pd\n",
    "import os\n",
    "import matplotlib.pyplot as plt"
   ]
  },
  {
   "cell_type": "code",
   "execution_count": 3,
   "metadata": {},
   "outputs": [
    {
     "data": {
      "text/html": [
       "<div>\n",
       "<style scoped>\n",
       "    .dataframe tbody tr th:only-of-type {\n",
       "        vertical-align: middle;\n",
       "    }\n",
       "\n",
       "    .dataframe tbody tr th {\n",
       "        vertical-align: top;\n",
       "    }\n",
       "\n",
       "    .dataframe thead th {\n",
       "        text-align: right;\n",
       "    }\n",
       "</style>\n",
       "<table border=\"1\" class=\"dataframe\">\n",
       "  <thead>\n",
       "    <tr style=\"text-align: right;\">\n",
       "      <th></th>\n",
       "      <th>Order ID</th>\n",
       "      <th>Product</th>\n",
       "      <th>Quantity Ordered</th>\n",
       "      <th>Price Each</th>\n",
       "      <th>Order Date</th>\n",
       "      <th>Purchase Address</th>\n",
       "    </tr>\n",
       "  </thead>\n",
       "  <tbody>\n",
       "    <tr>\n",
       "      <th>0</th>\n",
       "      <td>141234</td>\n",
       "      <td>iPhone</td>\n",
       "      <td>1</td>\n",
       "      <td>700</td>\n",
       "      <td>01/22/19 21:25</td>\n",
       "      <td>944 Walnut St, Boston, MA 02215</td>\n",
       "    </tr>\n",
       "    <tr>\n",
       "      <th>1</th>\n",
       "      <td>141235</td>\n",
       "      <td>Lightning Charging Cable</td>\n",
       "      <td>1</td>\n",
       "      <td>14.95</td>\n",
       "      <td>01/28/19 14:15</td>\n",
       "      <td>185 Maple St, Portland, OR 97035</td>\n",
       "    </tr>\n",
       "    <tr>\n",
       "      <th>2</th>\n",
       "      <td>141236</td>\n",
       "      <td>Wired Headphones</td>\n",
       "      <td>2</td>\n",
       "      <td>11.99</td>\n",
       "      <td>01/17/19 13:33</td>\n",
       "      <td>538 Adams St, San Francisco, CA 94016</td>\n",
       "    </tr>\n",
       "    <tr>\n",
       "      <th>3</th>\n",
       "      <td>141237</td>\n",
       "      <td>27in FHD Monitor</td>\n",
       "      <td>1</td>\n",
       "      <td>149.99</td>\n",
       "      <td>01/05/19 20:33</td>\n",
       "      <td>738 10th St, Los Angeles, CA 90001</td>\n",
       "    </tr>\n",
       "    <tr>\n",
       "      <th>4</th>\n",
       "      <td>141238</td>\n",
       "      <td>Wired Headphones</td>\n",
       "      <td>1</td>\n",
       "      <td>11.99</td>\n",
       "      <td>01/25/19 11:59</td>\n",
       "      <td>387 10th St, Austin, TX 73301</td>\n",
       "    </tr>\n",
       "  </tbody>\n",
       "</table>\n",
       "</div>"
      ],
      "text/plain": [
       "  Order ID                   Product Quantity Ordered Price Each  \\\n",
       "0   141234                    iPhone                1        700   \n",
       "1   141235  Lightning Charging Cable                1      14.95   \n",
       "2   141236          Wired Headphones                2      11.99   \n",
       "3   141237          27in FHD Monitor                1     149.99   \n",
       "4   141238          Wired Headphones                1      11.99   \n",
       "\n",
       "       Order Date                       Purchase Address  \n",
       "0  01/22/19 21:25        944 Walnut St, Boston, MA 02215  \n",
       "1  01/28/19 14:15       185 Maple St, Portland, OR 97035  \n",
       "2  01/17/19 13:33  538 Adams St, San Francisco, CA 94016  \n",
       "3  01/05/19 20:33     738 10th St, Los Angeles, CA 90001  \n",
       "4  01/25/19 11:59          387 10th St, Austin, TX 73301  "
      ]
     },
     "execution_count": 3,
     "metadata": {},
     "output_type": "execute_result"
    }
   ],
   "source": [
    "# Join all csv file and create dataframe\n",
    "path = input('Please enter the data folder path: ')\n",
    "frames = []\n",
    "for file in os.listdir(path):\n",
    "    if file.endswith('.csv'):\n",
    "        file_path = path + '/' + file\n",
    "        df1 = pd.read_csv(file_path)\n",
    "        frames.append(df1)\n",
    "        \n",
    "df = pd.concat(frames)   \n",
    "df.head()"
   ]
  },
  {
   "cell_type": "markdown",
   "metadata": {},
   "source": [
    "## 2. Sales by month"
   ]
  },
  {
   "cell_type": "code",
   "execution_count": 4,
   "metadata": {},
   "outputs": [
    {
     "data": {
      "text/html": [
       "<div>\n",
       "<style scoped>\n",
       "    .dataframe tbody tr th:only-of-type {\n",
       "        vertical-align: middle;\n",
       "    }\n",
       "\n",
       "    .dataframe tbody tr th {\n",
       "        vertical-align: top;\n",
       "    }\n",
       "\n",
       "    .dataframe thead th {\n",
       "        text-align: right;\n",
       "    }\n",
       "</style>\n",
       "<table border=\"1\" class=\"dataframe\">\n",
       "  <thead>\n",
       "    <tr style=\"text-align: right;\">\n",
       "      <th></th>\n",
       "      <th>Order ID</th>\n",
       "      <th>Product</th>\n",
       "      <th>Quantity Ordered</th>\n",
       "      <th>Price Each</th>\n",
       "      <th>Order Date</th>\n",
       "      <th>Purchase Address</th>\n",
       "      <th>Month</th>\n",
       "    </tr>\n",
       "  </thead>\n",
       "  <tbody>\n",
       "    <tr>\n",
       "      <th>0</th>\n",
       "      <td>141234</td>\n",
       "      <td>iPhone</td>\n",
       "      <td>1</td>\n",
       "      <td>700</td>\n",
       "      <td>01/22/19 21:25</td>\n",
       "      <td>944 Walnut St, Boston, MA 02215</td>\n",
       "      <td>01</td>\n",
       "    </tr>\n",
       "    <tr>\n",
       "      <th>1</th>\n",
       "      <td>141235</td>\n",
       "      <td>Lightning Charging Cable</td>\n",
       "      <td>1</td>\n",
       "      <td>14.95</td>\n",
       "      <td>01/28/19 14:15</td>\n",
       "      <td>185 Maple St, Portland, OR 97035</td>\n",
       "      <td>01</td>\n",
       "    </tr>\n",
       "    <tr>\n",
       "      <th>2</th>\n",
       "      <td>141236</td>\n",
       "      <td>Wired Headphones</td>\n",
       "      <td>2</td>\n",
       "      <td>11.99</td>\n",
       "      <td>01/17/19 13:33</td>\n",
       "      <td>538 Adams St, San Francisco, CA 94016</td>\n",
       "      <td>01</td>\n",
       "    </tr>\n",
       "    <tr>\n",
       "      <th>3</th>\n",
       "      <td>141237</td>\n",
       "      <td>27in FHD Monitor</td>\n",
       "      <td>1</td>\n",
       "      <td>149.99</td>\n",
       "      <td>01/05/19 20:33</td>\n",
       "      <td>738 10th St, Los Angeles, CA 90001</td>\n",
       "      <td>01</td>\n",
       "    </tr>\n",
       "    <tr>\n",
       "      <th>4</th>\n",
       "      <td>141238</td>\n",
       "      <td>Wired Headphones</td>\n",
       "      <td>1</td>\n",
       "      <td>11.99</td>\n",
       "      <td>01/25/19 11:59</td>\n",
       "      <td>387 10th St, Austin, TX 73301</td>\n",
       "      <td>01</td>\n",
       "    </tr>\n",
       "  </tbody>\n",
       "</table>\n",
       "</div>"
      ],
      "text/plain": [
       "  Order ID                   Product Quantity Ordered Price Each  \\\n",
       "0   141234                    iPhone                1        700   \n",
       "1   141235  Lightning Charging Cable                1      14.95   \n",
       "2   141236          Wired Headphones                2      11.99   \n",
       "3   141237          27in FHD Monitor                1     149.99   \n",
       "4   141238          Wired Headphones                1      11.99   \n",
       "\n",
       "       Order Date                       Purchase Address Month  \n",
       "0  01/22/19 21:25        944 Walnut St, Boston, MA 02215    01  \n",
       "1  01/28/19 14:15       185 Maple St, Portland, OR 97035    01  \n",
       "2  01/17/19 13:33  538 Adams St, San Francisco, CA 94016    01  \n",
       "3  01/05/19 20:33     738 10th St, Los Angeles, CA 90001    01  \n",
       "4  01/25/19 11:59          387 10th St, Austin, TX 73301    01  "
      ]
     },
     "execution_count": 4,
     "metadata": {},
     "output_type": "execute_result"
    }
   ],
   "source": [
    "df['Month'] = df['Order Date'].str[0:2]\n",
    "df.head()"
   ]
  },
  {
   "cell_type": "code",
   "execution_count": 5,
   "metadata": {},
   "outputs": [
    {
     "name": "stdout",
     "output_type": "stream",
     "text": [
      "{'03', '10', '09', '05', '01', '04', '02', '06', '07', '08', '11', '12'}\n"
     ]
    }
   ],
   "source": [
    "df = df.dropna(how='all')\n",
    "df = df[df['Month'] != 'Or']\n",
    "print(set(df['Month']))"
   ]
  },
  {
   "cell_type": "code",
   "execution_count": 6,
   "metadata": {},
   "outputs": [
    {
     "name": "stdout",
     "output_type": "stream",
     "text": [
      "int8\n",
      "float32\n"
     ]
    },
    {
     "data": {
      "text/html": [
       "<div>\n",
       "<style scoped>\n",
       "    .dataframe tbody tr th:only-of-type {\n",
       "        vertical-align: middle;\n",
       "    }\n",
       "\n",
       "    .dataframe tbody tr th {\n",
       "        vertical-align: top;\n",
       "    }\n",
       "\n",
       "    .dataframe thead th {\n",
       "        text-align: right;\n",
       "    }\n",
       "</style>\n",
       "<table border=\"1\" class=\"dataframe\">\n",
       "  <thead>\n",
       "    <tr style=\"text-align: right;\">\n",
       "      <th></th>\n",
       "      <th>Order ID</th>\n",
       "      <th>Product</th>\n",
       "      <th>Quantity Ordered</th>\n",
       "      <th>Price Each</th>\n",
       "      <th>Sales</th>\n",
       "      <th>Order Date</th>\n",
       "      <th>Purchase Address</th>\n",
       "      <th>Month</th>\n",
       "    </tr>\n",
       "  </thead>\n",
       "  <tbody>\n",
       "    <tr>\n",
       "      <th>0</th>\n",
       "      <td>141234</td>\n",
       "      <td>iPhone</td>\n",
       "      <td>1</td>\n",
       "      <td>700.000000</td>\n",
       "      <td>700.000000</td>\n",
       "      <td>01/22/19 21:25</td>\n",
       "      <td>944 Walnut St, Boston, MA 02215</td>\n",
       "      <td>01</td>\n",
       "    </tr>\n",
       "    <tr>\n",
       "      <th>1</th>\n",
       "      <td>141235</td>\n",
       "      <td>Lightning Charging Cable</td>\n",
       "      <td>1</td>\n",
       "      <td>14.950000</td>\n",
       "      <td>14.950000</td>\n",
       "      <td>01/28/19 14:15</td>\n",
       "      <td>185 Maple St, Portland, OR 97035</td>\n",
       "      <td>01</td>\n",
       "    </tr>\n",
       "    <tr>\n",
       "      <th>2</th>\n",
       "      <td>141236</td>\n",
       "      <td>Wired Headphones</td>\n",
       "      <td>2</td>\n",
       "      <td>11.990000</td>\n",
       "      <td>23.980000</td>\n",
       "      <td>01/17/19 13:33</td>\n",
       "      <td>538 Adams St, San Francisco, CA 94016</td>\n",
       "      <td>01</td>\n",
       "    </tr>\n",
       "    <tr>\n",
       "      <th>3</th>\n",
       "      <td>141237</td>\n",
       "      <td>27in FHD Monitor</td>\n",
       "      <td>1</td>\n",
       "      <td>149.990005</td>\n",
       "      <td>149.990005</td>\n",
       "      <td>01/05/19 20:33</td>\n",
       "      <td>738 10th St, Los Angeles, CA 90001</td>\n",
       "      <td>01</td>\n",
       "    </tr>\n",
       "    <tr>\n",
       "      <th>4</th>\n",
       "      <td>141238</td>\n",
       "      <td>Wired Headphones</td>\n",
       "      <td>1</td>\n",
       "      <td>11.990000</td>\n",
       "      <td>11.990000</td>\n",
       "      <td>01/25/19 11:59</td>\n",
       "      <td>387 10th St, Austin, TX 73301</td>\n",
       "      <td>01</td>\n",
       "    </tr>\n",
       "  </tbody>\n",
       "</table>\n",
       "</div>"
      ],
      "text/plain": [
       "  Order ID                   Product  Quantity Ordered  Price Each  \\\n",
       "0   141234                    iPhone                 1  700.000000   \n",
       "1   141235  Lightning Charging Cable                 1   14.950000   \n",
       "2   141236          Wired Headphones                 2   11.990000   \n",
       "3   141237          27in FHD Monitor                 1  149.990005   \n",
       "4   141238          Wired Headphones                 1   11.990000   \n",
       "\n",
       "        Sales      Order Date                       Purchase Address Month  \n",
       "0  700.000000  01/22/19 21:25        944 Walnut St, Boston, MA 02215    01  \n",
       "1   14.950000  01/28/19 14:15       185 Maple St, Portland, OR 97035    01  \n",
       "2   23.980000  01/17/19 13:33  538 Adams St, San Francisco, CA 94016    01  \n",
       "3  149.990005  01/05/19 20:33     738 10th St, Los Angeles, CA 90001    01  \n",
       "4   11.990000  01/25/19 11:59          387 10th St, Austin, TX 73301    01  "
      ]
     },
     "execution_count": 6,
     "metadata": {},
     "output_type": "execute_result"
    }
   ],
   "source": [
    "df['Quantity Ordered'] = pd.to_numeric(df['Quantity Ordered'], downcast='integer')\n",
    "df['Price Each'] = pd.to_numeric(df['Price Each'], downcast='float')\n",
    "\n",
    "print(df['Quantity Ordered'].dtypes)\n",
    "print(df['Price Each'].dtypes)\n",
    "\n",
    "df['Sales'] = df['Quantity Ordered'] * df['Price Each']\n",
    "\n",
    "moving_column = df.pop('Sales')\n",
    "df.insert(4, 'Sales', moving_column)\n",
    "\n",
    "df.head()"
   ]
  },
  {
   "cell_type": "code",
   "execution_count": 7,
   "metadata": {},
   "outputs": [
    {
     "data": {
      "text/plain": [
       "Month\n",
       "01    1822256.75\n",
       "02    2202022.50\n",
       "03    2807100.25\n",
       "04    3390670.25\n",
       "05    3152606.75\n",
       "06    2577802.25\n",
       "07    2647775.75\n",
       "08    2244467.75\n",
       "09    2097560.00\n",
       "10    3736726.75\n",
       "11    3199603.25\n",
       "12    4613443.50\n",
       "Name: Sales, dtype: float32"
      ]
     },
     "execution_count": 7,
     "metadata": {},
     "output_type": "execute_result"
    }
   ],
   "source": [
    "month_total_sales = df.groupby('Month').sum()['Sales']\n",
    "month_total_sales"
   ]
  },
  {
   "cell_type": "code",
   "execution_count": 8,
   "metadata": {},
   "outputs": [
    {
     "data": {
      "text/plain": [
       "4613443.5"
      ]
     },
     "execution_count": 8,
     "metadata": {},
     "output_type": "execute_result"
    }
   ],
   "source": [
    "month_total_sales.max()"
   ]
  },
  {
   "cell_type": "code",
   "execution_count": 9,
   "metadata": {},
   "outputs": [
    {
     "data": {
      "image/png": "[encoded data removed]",
      "text/plain": [
       "<Figure size 640x480 with 1 Axes>"
      ]
     },
     "metadata": {},
     "output_type": "display_data"
    }
   ],
   "source": [
    "months = range(1,13)\n",
    "plt.bar(x=months, height=month_total_sales)\n",
    "plt.xticks(months)\n",
    "plt.xlabel('month')\n",
    "plt.ylabel('Sales in USD')\n",
    "plt.show()"
   ]
  },
  {
   "cell_type": "markdown",
   "metadata": {},
   "source": [
    "## 3. Sales by city"
   ]
  },
  {
   "cell_type": "code",
   "execution_count": 10,
   "metadata": {},
   "outputs": [
    {
     "data": {
      "text/html": [
       "<div>\n",
       "<style scoped>\n",
       "    .dataframe tbody tr th:only-of-type {\n",
       "        vertical-align: middle;\n",
       "    }\n",
       "\n",
       "    .dataframe tbody tr th {\n",
       "        vertical-align: top;\n",
       "    }\n",
       "\n",
       "    .dataframe thead th {\n",
       "        text-align: right;\n",
       "    }\n",
       "</style>\n",
       "<table border=\"1\" class=\"dataframe\">\n",
       "  <thead>\n",
       "    <tr style=\"text-align: right;\">\n",
       "      <th></th>\n",
       "      <th>Order ID</th>\n",
       "      <th>Product</th>\n",
       "      <th>Quantity Ordered</th>\n",
       "      <th>Price Each</th>\n",
       "      <th>Sales</th>\n",
       "      <th>Order Date</th>\n",
       "      <th>Purchase Address</th>\n",
       "      <th>Month</th>\n",
       "      <th>City</th>\n",
       "    </tr>\n",
       "  </thead>\n",
       "  <tbody>\n",
       "    <tr>\n",
       "      <th>0</th>\n",
       "      <td>141234</td>\n",
       "      <td>iPhone</td>\n",
       "      <td>1</td>\n",
       "      <td>700.000000</td>\n",
       "      <td>700.000000</td>\n",
       "      <td>01/22/19 21:25</td>\n",
       "      <td>944 Walnut St, Boston, MA 02215</td>\n",
       "      <td>01</td>\n",
       "      <td>Boston</td>\n",
       "    </tr>\n",
       "    <tr>\n",
       "      <th>1</th>\n",
       "      <td>141235</td>\n",
       "      <td>Lightning Charging Cable</td>\n",
       "      <td>1</td>\n",
       "      <td>14.950000</td>\n",
       "      <td>14.950000</td>\n",
       "      <td>01/28/19 14:15</td>\n",
       "      <td>185 Maple St, Portland, OR 97035</td>\n",
       "      <td>01</td>\n",
       "      <td>Portland</td>\n",
       "    </tr>\n",
       "    <tr>\n",
       "      <th>2</th>\n",
       "      <td>141236</td>\n",
       "      <td>Wired Headphones</td>\n",
       "      <td>2</td>\n",
       "      <td>11.990000</td>\n",
       "      <td>23.980000</td>\n",
       "      <td>01/17/19 13:33</td>\n",
       "      <td>538 Adams St, San Francisco, CA 94016</td>\n",
       "      <td>01</td>\n",
       "      <td>San Francisco</td>\n",
       "    </tr>\n",
       "    <tr>\n",
       "      <th>3</th>\n",
       "      <td>141237</td>\n",
       "      <td>27in FHD Monitor</td>\n",
       "      <td>1</td>\n",
       "      <td>149.990005</td>\n",
       "      <td>149.990005</td>\n",
       "      <td>01/05/19 20:33</td>\n",
       "      <td>738 10th St, Los Angeles, CA 90001</td>\n",
       "      <td>01</td>\n",
       "      <td>Los Angeles</td>\n",
       "    </tr>\n",
       "    <tr>\n",
       "      <th>4</th>\n",
       "      <td>141238</td>\n",
       "      <td>Wired Headphones</td>\n",
       "      <td>1</td>\n",
       "      <td>11.990000</td>\n",
       "      <td>11.990000</td>\n",
       "      <td>01/25/19 11:59</td>\n",
       "      <td>387 10th St, Austin, TX 73301</td>\n",
       "      <td>01</td>\n",
       "      <td>Austin</td>\n",
       "    </tr>\n",
       "  </tbody>\n",
       "</table>\n",
       "</div>"
      ],
      "text/plain": [
       "  Order ID                   Product  Quantity Ordered  Price Each  \\\n",
       "0   141234                    iPhone                 1  700.000000   \n",
       "1   141235  Lightning Charging Cable                 1   14.950000   \n",
       "2   141236          Wired Headphones                 2   11.990000   \n",
       "3   141237          27in FHD Monitor                 1  149.990005   \n",
       "4   141238          Wired Headphones                 1   11.990000   \n",
       "\n",
       "        Sales      Order Date                       Purchase Address Month  \\\n",
       "0  700.000000  01/22/19 21:25        944 Walnut St, Boston, MA 02215    01   \n",
       "1   14.950000  01/28/19 14:15       185 Maple St, Portland, OR 97035    01   \n",
       "2   23.980000  01/17/19 13:33  538 Adams St, San Francisco, CA 94016    01   \n",
       "3  149.990005  01/05/19 20:33     738 10th St, Los Angeles, CA 90001    01   \n",
       "4   11.990000  01/25/19 11:59          387 10th St, Austin, TX 73301    01   \n",
       "\n",
       "             City  \n",
       "0          Boston  \n",
       "1        Portland  \n",
       "2   San Francisco  \n",
       "3     Los Angeles  \n",
       "4          Austin  "
      ]
     },
     "execution_count": 10,
     "metadata": {},
     "output_type": "execute_result"
    }
   ],
   "source": [
    "address_to_city = lambda address:address.split(',')[1]\n",
    "df['City'] = df['Purchase Address'].apply(address_to_city)\n",
    "\n",
    "df.head()"
   ]
  },
  {
   "cell_type": "code",
   "execution_count": 11,
   "metadata": {},
   "outputs": [
    {
     "data": {
      "text/plain": [
       "City\n",
       "Atlanta          2795498.50\n",
       "Austin           1819581.75\n",
       "Boston           3661642.00\n",
       "Dallas           2767975.50\n",
       "Los Angeles      5452571.00\n",
       "New York City    4664317.50\n",
       "Portland         2320490.50\n",
       "San Francisco    8262204.00\n",
       "Seattle          2747755.50\n",
       "Name: Sales, dtype: float32"
      ]
     },
     "execution_count": 11,
     "metadata": {},
     "output_type": "execute_result"
    }
   ],
   "source": [
    "city_total_sales = df.groupby('City').sum()['Sales']\n",
    "city_total_sales"
   ]
  },
  {
   "cell_type": "code",
   "execution_count": 12,
   "metadata": {},
   "outputs": [
    {
     "data": {
      "text/plain": [
       "8262204.0"
      ]
     },
     "execution_count": 12,
     "metadata": {},
     "output_type": "execute_result"
    }
   ],
   "source": [
    "city_total_sales.max()"
   ]
  },
  {
   "cell_type": "code",
   "execution_count": 13,
   "metadata": {},
   "outputs": [
    {
     "data": {
      "text/plain": [
       "[' Atlanta',\n",
       " ' Austin',\n",
       " ' Boston',\n",
       " ' Dallas',\n",
       " ' Los Angeles',\n",
       " ' New York City',\n",
       " ' Portland',\n",
       " ' San Francisco',\n",
       " ' Seattle']"
      ]
     },
     "execution_count": 13,
     "metadata": {},
     "output_type": "execute_result"
    }
   ],
   "source": [
    "cities = [city for city, sales in city_total_sales.items()]\n",
    "cities"
   ]
  },
  {
   "cell_type": "code",
   "execution_count": 14,
   "metadata": {},
   "outputs": [
    {
     "data": {
      "image/png": "[encoded data removed]",
      "text/plain": [
       "<Figure size 640x480 with 1 Axes>"
      ]
     },
     "metadata": {},
     "output_type": "display_data"
    }
   ],
   "source": [
    "plt.bar(x=cities, height=city_total_sales)\n",
    "plt.xticks(cities, rotation=45, size=8)\n",
    "plt.xlabel('Cities')\n",
    "plt.ylabel('Sales in USD')\n",
    "plt.show()"
   ]
  },
  {
   "cell_type": "markdown",
   "metadata": {},
   "source": [
    "## 4. Sales by hour"
   ]
  },
  {
   "cell_type": "code",
   "execution_count": 24,
   "metadata": {},
   "outputs": [
    {
     "data": {
      "text/html": [
       "<div>\n",
       "<style scoped>\n",
       "    .dataframe tbody tr th:only-of-type {\n",
       "        vertical-align: middle;\n",
       "    }\n",
       "\n",
       "    .dataframe tbody tr th {\n",
       "        vertical-align: top;\n",
       "    }\n",
       "\n",
       "    .dataframe thead th {\n",
       "        text-align: right;\n",
       "    }\n",
       "</style>\n",
       "<table border=\"1\" class=\"dataframe\">\n",
       "  <thead>\n",
       "    <tr style=\"text-align: right;\">\n",
       "      <th></th>\n",
       "      <th>Order ID</th>\n",
       "      <th>Product</th>\n",
       "      <th>Quantity Ordered</th>\n",
       "      <th>Price Each</th>\n",
       "      <th>Sales</th>\n",
       "      <th>Order Date</th>\n",
       "      <th>Purchase Address</th>\n",
       "      <th>Month</th>\n",
       "      <th>City</th>\n",
       "      <th>Hour</th>\n",
       "    </tr>\n",
       "  </thead>\n",
       "  <tbody>\n",
       "    <tr>\n",
       "      <th>0</th>\n",
       "      <td>141234</td>\n",
       "      <td>iPhone</td>\n",
       "      <td>1</td>\n",
       "      <td>700.000000</td>\n",
       "      <td>700.000000</td>\n",
       "      <td>2019-01-22 21:25:00</td>\n",
       "      <td>944 Walnut St, Boston, MA 02215</td>\n",
       "      <td>01</td>\n",
       "      <td>Boston</td>\n",
       "      <td>21</td>\n",
       "    </tr>\n",
       "    <tr>\n",
       "      <th>1</th>\n",
       "      <td>141235</td>\n",
       "      <td>Lightning Charging Cable</td>\n",
       "      <td>1</td>\n",
       "      <td>14.950000</td>\n",
       "      <td>14.950000</td>\n",
       "      <td>2019-01-28 14:15:00</td>\n",
       "      <td>185 Maple St, Portland, OR 97035</td>\n",
       "      <td>01</td>\n",
       "      <td>Portland</td>\n",
       "      <td>14</td>\n",
       "    </tr>\n",
       "    <tr>\n",
       "      <th>2</th>\n",
       "      <td>141236</td>\n",
       "      <td>Wired Headphones</td>\n",
       "      <td>2</td>\n",
       "      <td>11.990000</td>\n",
       "      <td>23.980000</td>\n",
       "      <td>2019-01-17 13:33:00</td>\n",
       "      <td>538 Adams St, San Francisco, CA 94016</td>\n",
       "      <td>01</td>\n",
       "      <td>San Francisco</td>\n",
       "      <td>13</td>\n",
       "    </tr>\n",
       "    <tr>\n",
       "      <th>3</th>\n",
       "      <td>141237</td>\n",
       "      <td>27in FHD Monitor</td>\n",
       "      <td>1</td>\n",
       "      <td>149.990005</td>\n",
       "      <td>149.990005</td>\n",
       "      <td>2019-01-05 20:33:00</td>\n",
       "      <td>738 10th St, Los Angeles, CA 90001</td>\n",
       "      <td>01</td>\n",
       "      <td>Los Angeles</td>\n",
       "      <td>20</td>\n",
       "    </tr>\n",
       "    <tr>\n",
       "      <th>4</th>\n",
       "      <td>141238</td>\n",
       "      <td>Wired Headphones</td>\n",
       "      <td>1</td>\n",
       "      <td>11.990000</td>\n",
       "      <td>11.990000</td>\n",
       "      <td>2019-01-25 11:59:00</td>\n",
       "      <td>387 10th St, Austin, TX 73301</td>\n",
       "      <td>01</td>\n",
       "      <td>Austin</td>\n",
       "      <td>11</td>\n",
       "    </tr>\n",
       "  </tbody>\n",
       "</table>\n",
       "</div>"
      ],
      "text/plain": [
       "  Order ID                   Product  Quantity Ordered  Price Each  \\\n",
       "0   141234                    iPhone                 1  700.000000   \n",
       "1   141235  Lightning Charging Cable                 1   14.950000   \n",
       "2   141236          Wired Headphones                 2   11.990000   \n",
       "3   141237          27in FHD Monitor                 1  149.990005   \n",
       "4   141238          Wired Headphones                 1   11.990000   \n",
       "\n",
       "        Sales          Order Date                       Purchase Address  \\\n",
       "0  700.000000 2019-01-22 21:25:00        944 Walnut St, Boston, MA 02215   \n",
       "1   14.950000 2019-01-28 14:15:00       185 Maple St, Portland, OR 97035   \n",
       "2   23.980000 2019-01-17 13:33:00  538 Adams St, San Francisco, CA 94016   \n",
       "3  149.990005 2019-01-05 20:33:00     738 10th St, Los Angeles, CA 90001   \n",
       "4   11.990000 2019-01-25 11:59:00          387 10th St, Austin, TX 73301   \n",
       "\n",
       "  Month            City  Hour  \n",
       "0    01          Boston    21  \n",
       "1    01        Portland    14  \n",
       "2    01   San Francisco    13  \n",
       "3    01     Los Angeles    20  \n",
       "4    01          Austin    11  "
      ]
     },
     "execution_count": 24,
     "metadata": {},
     "output_type": "execute_result"
    }
   ],
   "source": [
    "df['Order Date'] = pd.to_datetime(df['Order Date'], format='%m/%d/%Y')\n",
    "df['Hour'] = df['Order Date'].dt.hour\n",
    "\n",
    "df.head()"
   ]
  },
  {
   "cell_type": "code",
   "execution_count": 16,
   "metadata": {},
   "outputs": [
    {
     "data": {
      "text/plain": [
       "Hour\n",
       "0      3910\n",
       "1      2350\n",
       "2      1243\n",
       "3       831\n",
       "4       854\n",
       "5      1321\n",
       "6      2482\n",
       "7      4011\n",
       "8      6256\n",
       "9      8748\n",
       "10    10944\n",
       "11    12411\n",
       "12    12587\n",
       "13    12129\n",
       "14    10984\n",
       "15    10175\n",
       "16    10384\n",
       "17    10899\n",
       "18    12280\n",
       "19    12905\n",
       "20    12228\n",
       "21    10921\n",
       "22     8822\n",
       "23     6275\n",
       "Name: Sales, dtype: int64"
      ]
     },
     "execution_count": 16,
     "metadata": {},
     "output_type": "execute_result"
    }
   ],
   "source": [
    "sales_by_hour = df.groupby('Hour').count()['Sales']\n",
    "sales_by_hour\n"
   ]
  },
  {
   "cell_type": "code",
   "execution_count": 17,
   "metadata": {},
   "outputs": [
    {
     "data": {
      "image/png": "[encoded data removed]",
      "text/plain": [
       "<Figure size 640x480 with 1 Axes>"
      ]
     },
     "metadata": {},
     "output_type": "display_data"
    }
   ],
   "source": [
    "hours = [hour for hour, sales in sales_by_hour.items()]\n",
    "plt.plot(hours, sales_by_hour)\n",
    "plt.xticks(hours, size=8)\n",
    "plt.xlabel('Hour')\n",
    "plt.ylabel('Number of Orders')\n",
    "plt.grid()\n",
    "\n",
    "plt.show()"
   ]
  },
  {
   "cell_type": "markdown",
   "metadata": {},
   "source": [
    "## 5. Products sold together"
   ]
  },
  {
   "cell_type": "code",
   "execution_count": 27,
   "metadata": {},
   "outputs": [
    {
     "data": {
      "text/html": [
       "<div>\n",
       "<style scoped>\n",
       "    .dataframe tbody tr th:only-of-type {\n",
       "        vertical-align: middle;\n",
       "    }\n",
       "\n",
       "    .dataframe tbody tr th {\n",
       "        vertical-align: top;\n",
       "    }\n",
       "\n",
       "    .dataframe thead th {\n",
       "        text-align: right;\n",
       "    }\n",
       "</style>\n",
       "<table border=\"1\" class=\"dataframe\">\n",
       "  <thead>\n",
       "    <tr style=\"text-align: right;\">\n",
       "      <th></th>\n",
       "      <th>Order ID</th>\n",
       "      <th>Product</th>\n",
       "      <th>Quantity Ordered</th>\n",
       "      <th>Price Each</th>\n",
       "      <th>Sales</th>\n",
       "      <th>Order Date</th>\n",
       "      <th>Purchase Address</th>\n",
       "      <th>Month</th>\n",
       "      <th>City</th>\n",
       "      <th>Hour</th>\n",
       "    </tr>\n",
       "  </thead>\n",
       "  <tbody>\n",
       "    <tr>\n",
       "      <th>41</th>\n",
       "      <td>141275</td>\n",
       "      <td>USB-C Charging Cable</td>\n",
       "      <td>1</td>\n",
       "      <td>11.95</td>\n",
       "      <td>11.95</td>\n",
       "      <td>2019-01-07 16:06:00</td>\n",
       "      <td>610 Walnut St, Austin, TX 73301</td>\n",
       "      <td>01</td>\n",
       "      <td>Austin</td>\n",
       "      <td>16</td>\n",
       "    </tr>\n",
       "    <tr>\n",
       "      <th>42</th>\n",
       "      <td>141275</td>\n",
       "      <td>Wired Headphones</td>\n",
       "      <td>1</td>\n",
       "      <td>11.99</td>\n",
       "      <td>11.99</td>\n",
       "      <td>2019-01-07 16:06:00</td>\n",
       "      <td>610 Walnut St, Austin, TX 73301</td>\n",
       "      <td>01</td>\n",
       "      <td>Austin</td>\n",
       "      <td>16</td>\n",
       "    </tr>\n",
       "    <tr>\n",
       "      <th>57</th>\n",
       "      <td>141290</td>\n",
       "      <td>Apple Airpods Headphones</td>\n",
       "      <td>1</td>\n",
       "      <td>150.00</td>\n",
       "      <td>150.00</td>\n",
       "      <td>2019-01-02 08:25:00</td>\n",
       "      <td>4 1st St, Los Angeles, CA 90001</td>\n",
       "      <td>01</td>\n",
       "      <td>Los Angeles</td>\n",
       "      <td>8</td>\n",
       "    </tr>\n",
       "    <tr>\n",
       "      <th>58</th>\n",
       "      <td>141290</td>\n",
       "      <td>AA Batteries (4-pack)</td>\n",
       "      <td>3</td>\n",
       "      <td>3.84</td>\n",
       "      <td>11.52</td>\n",
       "      <td>2019-01-02 08:25:00</td>\n",
       "      <td>4 1st St, Los Angeles, CA 90001</td>\n",
       "      <td>01</td>\n",
       "      <td>Los Angeles</td>\n",
       "      <td>8</td>\n",
       "    </tr>\n",
       "    <tr>\n",
       "      <th>133</th>\n",
       "      <td>141365</td>\n",
       "      <td>Vareebadd Phone</td>\n",
       "      <td>1</td>\n",
       "      <td>400.00</td>\n",
       "      <td>400.00</td>\n",
       "      <td>2019-01-10 11:19:00</td>\n",
       "      <td>20 Dogwood St, New York City, NY 10001</td>\n",
       "      <td>01</td>\n",
       "      <td>New York City</td>\n",
       "      <td>11</td>\n",
       "    </tr>\n",
       "  </tbody>\n",
       "</table>\n",
       "</div>"
      ],
      "text/plain": [
       "    Order ID                   Product  Quantity Ordered  Price Each   Sales  \\\n",
       "41    141275      USB-C Charging Cable                 1       11.95   11.95   \n",
       "42    141275          Wired Headphones                 1       11.99   11.99   \n",
       "57    141290  Apple Airpods Headphones                 1      150.00  150.00   \n",
       "58    141290     AA Batteries (4-pack)                 3        3.84   11.52   \n",
       "133   141365           Vareebadd Phone                 1      400.00  400.00   \n",
       "\n",
       "             Order Date                        Purchase Address Month  \\\n",
       "41  2019-01-07 16:06:00         610 Walnut St, Austin, TX 73301    01   \n",
       "42  2019-01-07 16:06:00         610 Walnut St, Austin, TX 73301    01   \n",
       "57  2019-01-02 08:25:00         4 1st St, Los Angeles, CA 90001    01   \n",
       "58  2019-01-02 08:25:00         4 1st St, Los Angeles, CA 90001    01   \n",
       "133 2019-01-10 11:19:00  20 Dogwood St, New York City, NY 10001    01   \n",
       "\n",
       "               City  Hour  \n",
       "41           Austin    16  \n",
       "42           Austin    16  \n",
       "57      Los Angeles     8  \n",
       "58      Los Angeles     8  \n",
       "133   New York City    11  "
      ]
     },
     "execution_count": 27,
     "metadata": {},
     "output_type": "execute_result"
    }
   ],
   "source": [
    "df_dup = df[df['Order ID'].duplicated(keep=False)]\n",
    "\n",
    "df_dup.head()"
   ]
  },
  {
   "cell_type": "code",
   "execution_count": 28,
   "metadata": {},
   "outputs": [
    {
     "data": {
      "text/html": [
       "<div>\n",
       "<style scoped>\n",
       "    .dataframe tbody tr th:only-of-type {\n",
       "        vertical-align: middle;\n",
       "    }\n",
       "\n",
       "    .dataframe tbody tr th {\n",
       "        vertical-align: top;\n",
       "    }\n",
       "\n",
       "    .dataframe thead th {\n",
       "        text-align: right;\n",
       "    }\n",
       "</style>\n",
       "<table border=\"1\" class=\"dataframe\">\n",
       "  <thead>\n",
       "    <tr style=\"text-align: right;\">\n",
       "      <th></th>\n",
       "      <th>Order ID</th>\n",
       "      <th>All Products</th>\n",
       "    </tr>\n",
       "  </thead>\n",
       "  <tbody>\n",
       "    <tr>\n",
       "      <th>41</th>\n",
       "      <td>141275</td>\n",
       "      <td>USB-C Charging Cable, Wired Headphones</td>\n",
       "    </tr>\n",
       "    <tr>\n",
       "      <th>57</th>\n",
       "      <td>141290</td>\n",
       "      <td>Apple Airpods Headphones, AA Batteries (4-pack)</td>\n",
       "    </tr>\n",
       "    <tr>\n",
       "      <th>133</th>\n",
       "      <td>141365</td>\n",
       "      <td>Vareebadd Phone, Wired Headphones</td>\n",
       "    </tr>\n",
       "    <tr>\n",
       "      <th>153</th>\n",
       "      <td>141384</td>\n",
       "      <td>Google Phone, USB-C Charging Cable</td>\n",
       "    </tr>\n",
       "    <tr>\n",
       "      <th>220</th>\n",
       "      <td>141450</td>\n",
       "      <td>Google Phone, Bose SoundSport Headphones</td>\n",
       "    </tr>\n",
       "  </tbody>\n",
       "</table>\n",
       "</div>"
      ],
      "text/plain": [
       "    Order ID                                     All Products\n",
       "41    141275           USB-C Charging Cable, Wired Headphones\n",
       "57    141290  Apple Airpods Headphones, AA Batteries (4-pack)\n",
       "133   141365                Vareebadd Phone, Wired Headphones\n",
       "153   141384               Google Phone, USB-C Charging Cable\n",
       "220   141450         Google Phone, Bose SoundSport Headphones"
      ]
     },
     "execution_count": 28,
     "metadata": {},
     "output_type": "execute_result"
    }
   ],
   "source": [
    "df_dup = df_dup.copy()  # Create a deep copy of df_dup\n",
    "df_dup['All Products'] = df_dup.groupby('Order ID')['Product'].transform(', '.join)\n",
    "df_dup = df_dup[['Order ID', 'All Products']].drop_duplicates()\n",
    "\n",
    "df_dup.head()"
   ]
  },
  {
   "cell_type": "code",
   "execution_count": 20,
   "metadata": {},
   "outputs": [
    {
     "data": {
      "text/plain": [
       "All Products\n",
       "iPhone, Lightning Charging Cable                        882\n",
       "Google Phone, USB-C Charging Cable                      856\n",
       "iPhone, Wired Headphones                                361\n",
       "Vareebadd Phone, USB-C Charging Cable                   312\n",
       "Google Phone, Wired Headphones                          303\n",
       "iPhone, Apple Airpods Headphones                        286\n",
       "Google Phone, Bose SoundSport Headphones                161\n",
       "Vareebadd Phone, Wired Headphones                       104\n",
       "Google Phone, USB-C Charging Cable, Wired Headphones     77\n",
       "Vareebadd Phone, Bose SoundSport Headphones              60\n",
       "Name: count, dtype: int64"
      ]
     },
     "execution_count": 20,
     "metadata": {},
     "output_type": "execute_result"
    }
   ],
   "source": [
    "df_dup['All Products'].value_counts().head(10)"
   ]
  },
  {
   "cell_type": "markdown",
   "metadata": {},
   "source": [
    "## 6. Sold products quantity"
   ]
  },
  {
   "cell_type": "code",
   "execution_count": 21,
   "metadata": {},
   "outputs": [
    {
     "data": {
      "text/plain": [
       "Product\n",
       "20in Monitor                   4129\n",
       "27in 4K Gaming Monitor         6244\n",
       "27in FHD Monitor               7550\n",
       "34in Ultrawide Monitor         6199\n",
       "AA Batteries (4-pack)         27635\n",
       "AAA Batteries (4-pack)        31017\n",
       "Apple Airpods Headphones      15661\n",
       "Bose SoundSport Headphones    13457\n",
       "Flatscreen TV                  4819\n",
       "Google Phone                   5532\n",
       "LG Dryer                        646\n",
       "LG Washing Machine              666\n",
       "Lightning Charging Cable      23217\n",
       "Macbook Pro Laptop             4728\n",
       "ThinkPad Laptop                4130\n",
       "USB-C Charging Cable          23975\n",
       "Vareebadd Phone                2068\n",
       "Wired Headphones              20557\n",
       "iPhone                         6849\n",
       "Name: Quantity Ordered, dtype: int64"
      ]
     },
     "execution_count": 21,
     "metadata": {},
     "output_type": "execute_result"
    }
   ],
   "source": [
    "total_quantity = df.groupby('Product').sum(numeric_only=True)['Quantity Ordered']\n",
    "total_quantity"
   ]
  },
  {
   "cell_type": "code",
   "execution_count": 22,
   "metadata": {},
   "outputs": [
    {
     "data": {
      "text/plain": [
       "Product\n",
       "20in Monitor                   109.989998\n",
       "27in 4K Gaming Monitor         389.990021\n",
       "27in FHD Monitor               149.990005\n",
       "34in Ultrawide Monitor         379.990021\n",
       "AA Batteries (4-pack)            3.840000\n",
       "AAA Batteries (4-pack)           2.990000\n",
       "Apple Airpods Headphones       150.000000\n",
       "Bose SoundSport Headphones      99.989998\n",
       "Flatscreen TV                  300.000000\n",
       "Google Phone                   600.000000\n",
       "LG Dryer                       600.000000\n",
       "LG Washing Machine             600.000000\n",
       "Lightning Charging Cable        14.950000\n",
       "Macbook Pro Laptop            1700.000000\n",
       "ThinkPad Laptop                999.989990\n",
       "USB-C Charging Cable            11.950000\n",
       "Vareebadd Phone                400.000000\n",
       "Wired Headphones                11.990000\n",
       "iPhone                         700.000000\n",
       "Name: Price Each, dtype: float32"
      ]
     },
     "execution_count": 22,
     "metadata": {},
     "output_type": "execute_result"
    }
   ],
   "source": [
    "mean_price = df.groupby('Product').mean(numeric_only=True)['Price Each']\n",
    "mean_price"
   ]
  },
  {
   "cell_type": "code",
   "execution_count": 29,
   "metadata": {},
   "outputs": [
    {
     "data": {
      "image/png": "[encoded data removed]",
      "text/plain": [
       "<Figure size 640x480 with 2 Axes>"
      ]
     },
     "metadata": {},
     "output_type": "display_data"
    }
   ],
   "source": [
    "products = [product for product, total_quantity in total_quantity.items()]\n",
    "x = products\n",
    "y1 = total_quantity\n",
    "y2 = mean_price\n",
    "\n",
    "fig, ax1 = plt.subplots()\n",
    "\n",
    "ax2 = ax1.twinx()\n",
    "ax1.bar(x, y1, color='g')\n",
    "ax2.plot(x, y2, 'b-')\n",
    "\n",
    "# Fix the ticks and labels\n",
    "ax1.set_xticks(range(len(products)))  # Set the tick positions\n",
    "ax1.set_xticklabels(products, rotation=90, size=8)  # Set the tick labels\n",
    "\n",
    "ax1.set_xlabel('Products')\n",
    "ax1.set_ylabel('Quantity', color='g')\n",
    "ax2.set_ylabel('Price', color='b')\n",
    "\n",
    "plt.show()"
   ]
  },
  {
   "cell_type": "code",
   "execution_count": null,
   "metadata": {},
   "outputs": [],
   "source": []
  }
 ],
 "metadata": {
  "kernelspec": {
   "display_name": "base",
   "language": "python",
   "name": "python3"
  },
  "language_info": {
   "codemirror_mode": {
    "name": "ipython",
    "version": 3
   },
   "file_extension": ".py",
   "mimetype": "text/x-python",
   "name": "python",
   "nbconvert_exporter": "python",
   "pygments_lexer": "ipython3",
   "version": "3.12.4"
  }
 },
 "nbformat": 4,
 "nbformat_minor": 2
}
